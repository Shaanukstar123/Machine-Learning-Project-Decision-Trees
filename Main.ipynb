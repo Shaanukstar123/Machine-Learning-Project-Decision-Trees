{
 "cells": [
  {
   "cell_type": "markdown",
   "metadata": {},
   "source": [
    "# This file demonstrates the working decision tree"
   ]
  },
  {
   "cell_type": "markdown",
   "metadata": {},
   "source": [
    "## All file imports"
   ]
  },
  {
   "cell_type": "code",
   "execution_count": 1,
   "metadata": {},
   "outputs": [],
   "source": [
    "from src.treegen import *\n",
    "from src.prune import *"
   ]
  },
  {
   "cell_type": "code",
   "execution_count": 2,
   "metadata": {},
   "outputs": [],
   "source": [
    "import importlib\n",
    "%load_ext autoreload\n",
    "%autoreload 2"
   ]
  },
  {
   "cell_type": "markdown",
   "metadata": {},
   "source": [
    "## Generating the tree on the specified dataset. THe default training set is the clean dataset."
   ]
  },
  {
   "cell_type": "code",
   "execution_count": 3,
   "metadata": {},
   "outputs": [
    {
     "name": "stdout",
     "output_type": "stream",
     "text": [
      "Node completed\n",
      "Node completed\n",
      "Node completed\n",
      "Node completed\n",
      "Node completed\n",
      "Node completed\n",
      "Node completed\n",
      "Node completed\n",
      "Node completed\n"
     ]
    }
   ],
   "source": [
    "#File paths\n",
    "clean_filepath = \"test/clean_dataset.txt\"\n",
    "noisy_filepath = \"test/noisy_dataset.txt\"\n",
    "sample_filepath = \"test/sample_set.txt\"\n",
    "#Tree instantiation\n",
    "initNode = treeGen(sample_filepath)\n",
    "root, depth = initNode.generateTree()"
   ]
  },
  {
   "cell_type": "markdown",
   "metadata": {},
   "source": [
    "## The below code will produce the tree visualisation"
   ]
  },
  {
   "cell_type": "code",
   "execution_count": 5,
   "metadata": {},
   "outputs": [
    {
     "ename": "TypeError",
     "evalue": "visualizeTree() got an unexpected keyword argument 'displayTree'",
     "output_type": "error",
     "traceback": [
      "\u001b[1;31m---------------------------------------------------------------------------\u001b[0m",
      "\u001b[1;31mTypeError\u001b[0m                                 Traceback (most recent call last)",
      "\u001b[1;32m~\\AppData\\Local\\Temp/ipykernel_26964/4201314109.py\u001b[0m in \u001b[0;36m<module>\u001b[1;34m\u001b[0m\n\u001b[0;32m      1\u001b[0m \u001b[1;31m#Tree visualisation\u001b[0m\u001b[1;33m\u001b[0m\u001b[1;33m\u001b[0m\u001b[1;33m\u001b[0m\u001b[0m\n\u001b[1;32m----> 2\u001b[1;33m \u001b[0mroot\u001b[0m\u001b[1;33m.\u001b[0m\u001b[0mvisualizeTree\u001b[0m\u001b[1;33m(\u001b[0m\u001b[0mdepth\u001b[0m\u001b[1;33m,\u001b[0m \u001b[1;34m\"src/tree_diagram.png\"\u001b[0m\u001b[1;33m,\u001b[0m \u001b[0mdisplayTree\u001b[0m\u001b[1;33m=\u001b[0m\u001b[1;32mTrue\u001b[0m\u001b[1;33m)\u001b[0m\u001b[1;33m\u001b[0m\u001b[1;33m\u001b[0m\u001b[0m\n\u001b[0m",
      "\u001b[1;31mTypeError\u001b[0m: visualizeTree() got an unexpected keyword argument 'displayTree'"
     ]
    }
   ],
   "source": [
    "#Tree visualisation\n",
    "root.visualizeTree(depth, \"src/tree_diagram.png\", True)"
   ]
  }
 ],
 "metadata": {
  "kernelspec": {
   "display_name": "Python 3.8.10 64-bit (microsoft store)",
   "language": "python",
   "name": "python3"
  },
  "language_info": {
   "codemirror_mode": {
    "name": "ipython",
    "version": 3
   },
   "file_extension": ".py",
   "mimetype": "text/x-python",
   "name": "python",
   "nbconvert_exporter": "python",
   "pygments_lexer": "ipython3",
   "version": "3.8.10"
  },
  "orig_nbformat": 4,
  "vscode": {
   "interpreter": {
    "hash": "f56960e1563fd9f9ab53e1788d4f3b8f1b9da3d60c6a53bfbf4c3affcb5e205b"
   }
  }
 },
 "nbformat": 4,
 "nbformat_minor": 2
}
