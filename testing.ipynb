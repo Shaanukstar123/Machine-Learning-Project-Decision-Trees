{
 "cells": [
  {
   "cell_type": "markdown",
   "metadata": {},
   "source": [
    "# This notebook will be used for testing each section"
   ]
  },
  {
   "cell_type": "code",
   "execution_count": 1,
   "metadata": {},
   "outputs": [],
   "source": [
    "from src.main import *\n",
    "from src.treegen import *\n",
    "from src.optimalsplit import *\n",
    "from src.crosseval import *\n",
    "from src.prune import *\n",
    "\n"
   ]
  },
  {
   "cell_type": "code",
   "execution_count": 2,
   "metadata": {},
   "outputs": [
    {
     "name": "stdout",
     "output_type": "stream",
     "text": [
      "(2000, 7)\n"
     ]
    }
   ],
   "source": [
    "dataset = readData(\"src/test/noisy_dataset.txt\", True)\n",
    "#dataset.printDataSet()"
   ]
  }
 ],
 "metadata": {
  "kernelspec": {
   "display_name": "Python 3.8.10 64-bit (microsoft store)",
   "language": "python",
   "name": "python3"
  },
  "language_info": {
   "codemirror_mode": {
    "name": "ipython",
    "version": 3
   },
   "file_extension": ".py",
   "mimetype": "text/x-python",
   "name": "python",
   "nbconvert_exporter": "python",
   "pygments_lexer": "ipython3",
   "version": "3.8.10"
  },
  "orig_nbformat": 4,
  "vscode": {
   "interpreter": {
    "hash": "f56960e1563fd9f9ab53e1788d4f3b8f1b9da3d60c6a53bfbf4c3affcb5e205b"
   }
  }
 },
 "nbformat": 4,
 "nbformat_minor": 2
}
