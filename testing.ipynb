{
 "cells": [
  {
   "cell_type": "markdown",
   "metadata": {},
   "source": [
    "# This notebook will be used for testing each section"
   ]
  },
  {
   "cell_type": "code",
   "execution_count": 66,
   "metadata": {},
   "outputs": [],
   "source": [
    "from src.main import *\n",
    "from src.treegen import *\n",
    "from src.optimalsplit import *\n",
    "from src.crosseval import *\n",
    "from src.prune import *\n",
    "import importlib\n"
   ]
  },
  {
   "cell_type": "code",
   "execution_count": 67,
   "metadata": {},
   "outputs": [
    {
     "name": "stdout",
     "output_type": "stream",
     "text": [
      "The autoreload extension is already loaded. To reload it, use:\n",
      "  %reload_ext autoreload\n"
     ]
    }
   ],
   "source": [
    "%load_ext autoreload\n",
    "%autoreload 2"
   ]
  },
  {
   "cell_type": "code",
   "execution_count": 96,
   "metadata": {},
   "outputs": [
    {
     "name": "stdout",
     "output_type": "stream",
     "text": [
      "tree finished\n",
      "tree finished\n",
      "tree finished\n",
      "tree finished\n",
      "tree finished\n",
      "tree finished\n",
      "tree finished\n",
      "tree finished\n",
      "tree finished\n"
     ]
    }
   ],
   "source": [
    "treeNode = tree_gen()\n",
    "# Steps to visualise:\n",
    "data = treeNode.sample_data\n",
    "root, depth = treeNode.generateTree(data, 0)\n",
    "#root, depth = treeNode.generate_decision_tree(treeNode.sample_data, 0)\n",
    "#fig, ax = plt.subplots(figsize=(18, 10))\n",
    "#gap = 1.0/depth\n",
    "#treeNode.visualize_tree(root, 0.0, 1.0, 0.0, 1.0)\n",
    "#fig.subplots_adjust(top=0.83)\n",
    "#plt.show()"
   ]
  },
  {
   "cell_type": "code",
   "execution_count": 75,
   "metadata": {},
   "outputs": [
    {
     "name": "stdout",
     "output_type": "stream",
     "text": [
      "(array([0, 3, 4], dtype=int64),)\n",
      "[[-35. -56. -57. -34. -60. -73. -80.   2.]\n",
      " [-19. -63. -66. -20. -79. -73. -72.   2.]\n",
      " [-39. -56. -58. -37. -64. -76. -72.   2.]]\n"
     ]
    }
   ],
   "source": [
    "bottom =np.where(data[:, 6] > -83)\n",
    "print(bottom)\n",
    "print(data[bottom])"
   ]
  },
  {
   "cell_type": "code",
   "execution_count": 101,
   "metadata": {},
   "outputs": [
    {
     "name": "stdout",
     "output_type": "stream",
     "text": [
      "            -> x1\n",
      "        -> x4 <= -66.0\n",
      "            -> x4\n",
      "    -> x3 <= -58.0\n",
      "                -> x3\n",
      "            -> x1 <= -60.0\n",
      "                    -> x4\n",
      "                -> x0 <= -57.0\n",
      "                    -> x3\n",
      "        -> x5 <= -83.0\n",
      "                -> x3\n",
      "            -> x2 <= -53.0\n",
      "                    -> x3\n",
      "                -> x0 <= -52.0\n",
      "                    -> x2\n",
      "-> x3 <= -46.0\n",
      "    -> x2\n",
      "up means true, down means false\n"
     ]
    }
   ],
   "source": [
    "root.printTree()"
   ]
  }
 ],
 "metadata": {
  "kernelspec": {
   "display_name": "Python 3.8.10 64-bit (microsoft store)",
   "language": "python",
   "name": "python3"
  },
  "language_info": {
   "codemirror_mode": {
    "name": "ipython",
    "version": 3
   },
   "file_extension": ".py",
   "mimetype": "text/x-python",
   "name": "python",
   "nbconvert_exporter": "python",
   "pygments_lexer": "ipython3",
   "version": "3.8.10"
  },
  "orig_nbformat": 4,
  "vscode": {
   "interpreter": {
    "hash": "f56960e1563fd9f9ab53e1788d4f3b8f1b9da3d60c6a53bfbf4c3affcb5e205b"
   }
  }
 },
 "nbformat": 4,
 "nbformat_minor": 2
}
