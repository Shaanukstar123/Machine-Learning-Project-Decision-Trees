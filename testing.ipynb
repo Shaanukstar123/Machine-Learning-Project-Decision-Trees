{
 "cells": [
  {
   "cell_type": "markdown",
   "metadata": {},
   "source": [
    "# This notebook will be used for testing each section"
   ]
  },
  {
   "cell_type": "code",
   "execution_count": 20,
   "metadata": {},
   "outputs": [],
   "source": [
    "from src.main import *\n",
    "from src.treegen import *\n",
    "from src.optimalsplit import *\n",
    "from src.crosseval import *\n",
    "from src.prune import *\n",
    "import importlib\n",
    "from src.evaluation import *\n"
   ]
  },
  {
   "cell_type": "code",
   "execution_count": 21,
   "metadata": {},
   "outputs": [
    {
     "name": "stdout",
     "output_type": "stream",
     "text": [
      "The autoreload extension is already loaded. To reload it, use:\n",
      "  %reload_ext autoreload\n"
     ]
    }
   ],
   "source": [
    "%load_ext autoreload\n",
    "%autoreload 2"
   ]
  },
  {
   "cell_type": "code",
   "execution_count": 22,
   "metadata": {},
   "outputs": [
    {
     "name": "stdout",
     "output_type": "stream",
     "text": [
      "tree finished\n",
      "tree finished\n",
      "tree finished\n",
      "tree finished\n",
      "tree finished\n",
      "tree finished\n",
      "tree finished\n",
      "tree finished\n",
      "tree finished\n"
     ]
    }
   ],
   "source": [
    "treeNode = tree_gen()\n",
    "# Steps to visualise:\n",
    "data = treeNode.sample_data\n",
    "root, depth = treeNode.generateTree(data, 0)\n",
    "#root, depth = treeNode.generate_decision_tree(treeNode.sample_data, 0)\n",
    "#fig, ax = plt.subplots(figsize=(18, 10))\n",
    "#gap = 1.0/depth\n",
    "#treeNode.visualize_tree(root, 0.0, 1.0, 0.0, 1.0)\n",
    "#fig.subplots_adjust(top=0.83)\n",
    "#plt.show()"
   ]
  },
  {
   "cell_type": "code",
   "execution_count": 23,
   "metadata": {},
   "outputs": [
    {
     "name": "stdout",
     "output_type": "stream",
     "text": [
      "(array([ 0,  3,  4,  6,  7,  9, 14, 16, 18, 20, 22, 23, 24, 25, 26, 28, 29,\n",
      "       30, 31, 33, 34, 36, 37, 40, 41], dtype=int64),)\n",
      "[[-35. -56. -57. -34. -60. -73. -80.   2.]\n",
      " [-19. -63. -66. -20. -79. -73. -72.   2.]\n",
      " [-39. -56. -58. -37. -64. -76. -72.   2.]\n",
      " [-52. -52. -52. -49. -62. -80. -80.   3.]\n",
      " [-40. -50. -49. -51. -65. -75. -80.   2.]\n",
      " [-36. -50. -58. -41. -74. -74. -69.   2.]\n",
      " [-38. -54. -52. -36. -63. -65. -70.   2.]\n",
      " [-38. -56. -48. -39. -63. -70. -73.   2.]\n",
      " [-65. -54. -57. -66. -70. -82. -80.   1.]\n",
      " [-37. -59. -57. -36. -64. -66. -70.   2.]\n",
      " [-37. -58. -56. -38. -63. -75. -74.   2.]\n",
      " [-58. -54. -52. -61. -74. -75. -82.   1.]\n",
      " [-44. -59. -63. -42. -72. -79. -80.   2.]\n",
      " [-37. -56. -55. -45. -64. -61. -69.   2.]\n",
      " [-57. -56. -47. -58. -44. -88. -82.   4.]\n",
      " [-64. -52. -63. -62. -71. -84. -79.   1.]\n",
      " [-40. -56. -56. -38. -66. -77. -74.   2.]\n",
      " [-59. -57. -60. -58. -67. -80. -79.   1.]\n",
      " [-58. -56. -61. -66. -75. -84. -78.   1.]\n",
      " [-46. -56. -54. -49. -63. -81. -82.   3.]\n",
      " [-38. -54. -53. -42. -69. -72. -66.   2.]\n",
      " [-65. -54. -56. -64. -66. -79. -81.   1.]\n",
      " [-53. -56. -46. -51. -62. -80. -80.   3.]\n",
      " [-37. -55. -57. -42. -63. -65. -64.   2.]\n",
      " [-48. -58. -58. -44. -71. -77. -79.   2.]]\n"
     ]
    }
   ],
   "source": [
    "bottom =np.where(data[:, 6] > -83)\n",
    "print(bottom)\n",
    "print(data[bottom])"
   ]
  },
  {
   "cell_type": "code",
   "execution_count": 24,
   "metadata": {},
   "outputs": [
    {
     "name": "stdout",
     "output_type": "stream",
     "text": [
      "            -> x1\n",
      "        -> x4 <= -66.0\n",
      "            -> x4\n",
      "    -> x3 <= -58.0\n",
      "                -> x3\n",
      "            -> x1 <= -60.0\n",
      "                    -> x4\n",
      "                -> x0 <= -57.0\n",
      "                    -> x3\n",
      "        -> x5 <= -83.0\n",
      "                -> x3\n",
      "            -> x2 <= -53.0\n",
      "                    -> x3\n",
      "                -> x0 <= -52.0\n",
      "                    -> x2\n",
      "-> x3 <= -46.0\n",
      "    -> x2\n",
      "up means true, down means false\n"
     ]
    }
   ],
   "source": [
    "root.printTree()"
   ]
  },
  {
   "cell_type": "code",
   "execution_count": 25,
   "metadata": {},
   "outputs": [
    {
     "name": "stdout",
     "output_type": "stream",
     "text": [
      "[[-49. -59. -57. ... -85. -83.   3.]\n",
      " [-52. -57. -53. ... -80. -83.   3.]\n",
      " [-38. -52. -56. ... -71. -75.   2.]\n",
      " ...\n",
      " [-38. -52. -54. ... -73. -77.   2.]\n",
      " [-37. -61. -55. ... -70. -67.   2.]\n",
      " [-50. -55. -59. ... -75. -78.   2.]]\n",
      "TEST SET: \n",
      "[[-63. -56. -52. ... -82. -92.   4.]\n",
      " [-60. -60. -46. ... -81. -83.   4.]\n",
      " [-48. -56. -54. ... -78. -82.   2.]\n",
      " ...\n",
      " [-38. -52. -54. ... -73. -77.   2.]\n",
      " [-37. -61. -55. ... -70. -67.   2.]\n",
      " [-50. -55. -59. ... -75. -78.   2.]]\n",
      "TRAING SET: \n",
      "1800\n"
     ]
    }
   ],
   "source": [
    "eval = Evaluation(np.loadtxt(\"test/clean_dataset.txt\", dtype=float))"
   ]
  }
 ],
 "metadata": {
  "kernelspec": {
   "display_name": "Python 3.9.1 64-bit",
   "language": "python",
   "name": "python3"
  },
  "language_info": {
   "codemirror_mode": {
    "name": "ipython",
    "version": 3
   },
   "file_extension": ".py",
   "mimetype": "text/x-python",
   "name": "python",
   "nbconvert_exporter": "python",
   "pygments_lexer": "ipython3",
   "version": "3.9.1"
  },
  "orig_nbformat": 4,
  "vscode": {
   "interpreter": {
    "hash": "d25b63adb4e0f7e065634c9fc3a3dd8359778675a01128af523b3952ca922a16"
   }
  }
 },
 "nbformat": 4,
 "nbformat_minor": 2
}
